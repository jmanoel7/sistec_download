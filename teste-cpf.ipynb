{
 "cells": [
  {
   "cell_type": "code",
   "execution_count": 1,
   "id": "55914c45-c8d0-46c0-8b63-e76d49dedfd2",
   "metadata": {},
   "outputs": [],
   "source": [
    "cpf = '715.186.331-45'"
   ]
  },
  {
   "cell_type": "code",
   "execution_count": 2,
   "id": "4252d2aa-6704-4d9f-8c1b-d7518c7a08de",
   "metadata": {},
   "outputs": [],
   "source": [
    "new_cpf = cpf[0:3] + '.' + cpf[3:6] + '.' + cpf[6:9] + '-' + cpf[9:11]"
   ]
  },
  {
   "cell_type": "code",
   "execution_count": 3,
   "id": "72f829c2-5570-41be-a2fe-f7265b365892",
   "metadata": {},
   "outputs": [
    {
     "name": "stdout",
     "output_type": "stream",
     "text": [
      "715..18.6.3-31\n"
     ]
    }
   ],
   "source": [
    "print(new_cpf)"
   ]
  },
  {
   "cell_type": "code",
   "execution_count": 5,
   "id": "969dc764-0871-4103-bbb0-2a362dd61b3a",
   "metadata": {},
   "outputs": [
    {
     "data": {
      "text/plain": [
       "'186'"
      ]
     },
     "execution_count": 5,
     "metadata": {},
     "output_type": "execute_result"
    }
   ],
   "source": [
    "cpf[4:7]"
   ]
  },
  {
   "cell_type": "code",
   "execution_count": null,
   "id": "6bb65fc2-9c44-4e18-afbc-87f371f97522",
   "metadata": {},
   "outputs": [],
   "source": []
  }
 ],
 "metadata": {
  "kernelspec": {
   "display_name": "Python 3 (ipykernel)",
   "language": "python",
   "name": "python3"
  },
  "language_info": {
   "codemirror_mode": {
    "name": "ipython",
    "version": 3
   },
   "file_extension": ".py",
   "mimetype": "text/x-python",
   "name": "python",
   "nbconvert_exporter": "python",
   "pygments_lexer": "ipython3",
   "version": "3.9.2"
  }
 },
 "nbformat": 4,
 "nbformat_minor": 5
}
