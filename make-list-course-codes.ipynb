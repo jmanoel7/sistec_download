{
 "cells": [
  {
   "cell_type": "code",
   "execution_count": 1,
   "metadata": {},
   "outputs": [],
   "source": [
    "import os"
   ]
  },
  {
   "cell_type": "code",
   "execution_count": 2,
   "metadata": {},
   "outputs": [
    {
     "name": "stdout",
     "output_type": "stream",
     "text": [
      "/home/joaomanoel/git/ifg/sistec_download/sistec_course_codes\n"
     ]
    }
   ],
   "source": [
    "dir_base = os.path.join(os.getcwd(), 'sistec_course_codes')\n",
    "os.chdir(dir_base)\n",
    "print(dir_base)"
   ]
  },
  {
   "cell_type": "code",
   "execution_count": 3,
   "metadata": {},
   "outputs": [
    {
     "name": "stdout",
     "output_type": "stream",
     "text": [
      "/home/joaomanoel/git/ifg/sistec_download/sistec_course_codes/CÂMPUS GOIÂNIA OESTE\n"
     ]
    }
   ],
   "source": [
    "campus =  u'CÂMPUS GOIÂNIA OESTE'\n",
    "os.chdir(campus)\n",
    "print(os.getcwd())"
   ]
  },
  {
   "cell_type": "code",
   "execution_count": 4,
   "metadata": {},
   "outputs": [
    {
     "name": "stdout",
     "output_type": "stream",
     "text": [
      "/home/joaomanoel/git/ifg/sistec_download/sistec_course_codes/codes.txt\n",
      "/home/joaomanoel/git/ifg/sistec_download/sistec_course_codes/codes_ead.txt\n"
     ]
    }
   ],
   "source": [
    "file_name_course_codes = os.path.join(dir_base, 'codes.txt')\n",
    "file_name_ead_course_codes = os.path.join(dir_base, 'codes_ead.txt')\n",
    "print(file_name_course_codes)\n",
    "print(file_name_ead_course_codes)"
   ]
  },
  {
   "cell_type": "code",
   "execution_count": null,
   "metadata": {},
   "outputs": [],
   "source": [
    "with open('sistec_csv.csv', 'rb') as sistec_course_codes:\n",
    "\n",
    "    file_course_codes = open(file_name_course_codes, 'a')\n",
    "    file_ead_course_codes = open(file_name_ead_course_codes, 'a')\n",
    "\n",
    "    sistec_course_codes.readline()\n",
    "\n",
    "    for line in sistec_course_codes:\n",
    "\n",
    "        line = line.decode('iso-8859-1')\n",
    "        line_items = line.split(';')\n",
    "\n",
    "        # for i in range(len(line_items)):\n",
    "        #     print(f'line_items[{i}]={line_items[i]}')\n",
    "\n",
    "        education_model = line_items[23].strip('\\\"')\n",
    "        course_code = line_items[16].strip('\\\"')\n",
    "\n",
    "        if education_model == u'EDUCAÇÃO PRESENCIAL':\n",
    "\n",
    "            file_course_codes.write(f'{course_code}\\n')\n",
    "            file_course_codes.flush()\n",
    "\n",
    "        elif education_model == u'EDUCAÇÃO A DISTÂNCIA':\n",
    "\n",
    "            file_ead_course_codes.write(f'{course_code}\\n')\n",
    "            file_ead_course_codes.flush()\n",
    "\n",
    "    file_course_codes.close()\n",
    "    file_ead_course_codes.close()"
   ]
  },
  {
   "cell_type": "code",
   "execution_count": 6,
   "metadata": {},
   "outputs": [],
   "source": [
    "with open('cursos_tecnicos.csv', 'rb') as technician_course_codes:\n",
    "\n",
    "    file_course_codes = open(file_name_course_codes, 'a')\n",
    "    file_ead_course_codes = open(file_name_ead_course_codes, 'a')\n",
    "\n",
    "    technician_course_codes.readline()\n",
    "\n",
    "    for line in technician_course_codes:\n",
    "\n",
    "        line = line.decode('iso-8859-1')\n",
    "        line_items = line.split(';')\n",
    "\n",
    "        # for i in range(len(line_items)):\n",
    "        #     print(f'line_items[{i}]={line_items[i]}')\n",
    "\n",
    "        education_model = line_items[31].strip()\n",
    "        course_code = line_items[23].strip()\n",
    "\n",
    "        if education_model == u'EDUCAÇÃO PRESENCIAL':\n",
    "\n",
    "            file_course_codes.write(f'{course_code}\\n')\n",
    "            file_course_codes.flush()\n",
    "\n",
    "        elif education_model == u'EDUCAÇÃO A DISTÂNCIA':\n",
    "\n",
    "            file_ead_course_codes.write(f'{course_code}\\n')\n",
    "            file_ead_course_codes.flush()\n",
    "\n",
    "    file_course_codes.close()\n",
    "    file_ead_course_codes.close()"
   ]
  }
 ],
 "metadata": {
  "kernelspec": {
   "display_name": "sistec_filtro",
   "language": "python",
   "name": "python3"
  },
  "language_info": {
   "codemirror_mode": {
    "name": "ipython",
    "version": 3
   },
   "file_extension": ".py",
   "mimetype": "text/x-python",
   "name": "python",
   "nbconvert_exporter": "python",
   "pygments_lexer": "ipython3",
   "version": "3.11.2"
  },
  "orig_nbformat": 4
 },
 "nbformat": 4,
 "nbformat_minor": 2
}
